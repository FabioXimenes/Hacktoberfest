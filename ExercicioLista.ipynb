{
 "cells": [
  {
   "attachments": {
    "image-2.png": {
     "image/png": "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"
    }
   },
   "cell_type": "markdown",
   "id": "c2fdda3c",
   "metadata": {},
   "source": [
    "Uma empresa de pesquisas precisa tabular os resultados da seguinte enquete feita a um grande quantidade de organizações:\n",
    "\"Qual o melhor Sistema Operacional para uso em servidores?\"\\\n",
    "\\\n",
    "As possíveis respostas são:\\\n",
    "\\\n",
    "1- Windows Server\\\n",
    "2- Unix\\\n",
    "3- Linux\\\n",
    "4- Netware\\\n",
    "5- Mac OS\\\n",
    "6- Outro\\\n",
    "\\\n",
    "Você foi contratado para desenvolver um programa que leia o resultado da enquete e informe ao final o resultado da mesma. O programa deverá ler os valores até ser informado o valor 0, que encerra a entrada dos dados. Não deverão ser aceitos valores além dos válidos para o programa (0 a 6). Os valores referentes a cada uma das opções devem ser armazenados num vetor. Após os dados terem sido completamente informados, o programa deverá calcular a percentual de cada um dos concorrentes e informar o vencedor da enquete. O formato da saída foi dado pela empresa, e é o seguinte:\\\n",
    "![image-2.png](attachment:image-2.png)"
   ]
  },
  {
   "cell_type": "code",
   "execution_count": 1,
   "id": "8a7bc004",
   "metadata": {},
   "outputs": [
    {
     "name": "stdout",
     "output_type": "stream",
     "text": [
      "Qual o melhor Sistema Operacional para uso em servidores?\n",
      "1- Windows Server    \n",
      "2- Unix\n",
      "3- Linux\n",
      "4- Netware\n",
      "5- Mac OS\n",
      "6- Outro\n",
      "0- Encerrar\n",
      "Opção:1\n",
      "Qual o melhor Sistema Operacional para uso em servidores?\n",
      "1- Windows Server    \n",
      "2- Unix\n",
      "3- Linux\n",
      "4- Netware\n",
      "5- Mac OS\n",
      "6- Outro\n",
      "0- Encerrar\n",
      "Opção:1\n",
      "Qual o melhor Sistema Operacional para uso em servidores?\n",
      "1- Windows Server    \n",
      "2- Unix\n",
      "3- Linux\n",
      "4- Netware\n",
      "5- Mac OS\n",
      "6- Outro\n",
      "0- Encerrar\n",
      "Opção:2\n",
      "Qual o melhor Sistema Operacional para uso em servidores?\n",
      "1- Windows Server    \n",
      "2- Unix\n",
      "3- Linux\n",
      "4- Netware\n",
      "5- Mac OS\n",
      "6- Outro\n",
      "0- Encerrar\n",
      "Opção:0\n",
      "\n",
      "Sistema Operacional\tVotos\t%\n",
      "---------------------\t-----\t---\n",
      "Windows Server\t\t2\t66%\n",
      "Unix\t\t\t1\t33%\n",
      "Linux\t\t\t0\t0%\n",
      "Netware\t\t\t0\t0%\n",
      "Mac OS\t\t\t0\t0%\n",
      "Outro\t\t\t0\t0%\n",
      "---------------------\t-----\n",
      "\n",
      "Total\t\t\t3\n",
      "\n"
     ]
    }
   ],
   "source": [
    "enquete = []\n",
    "colocacao = []\n",
    "SOs = ['Windows Server', 'Unix', 'Linux', 'Netware', 'Mac OS', 'Outro']\n",
    "percentual = []\n",
    "total = []\n",
    "while True:\n",
    "    opcao = int(input(f'Qual o melhor Sistema Operacional para uso em servidores?\\n1- Windows Server\\\n",
    "    \\n2- Unix\\n3- Linux\\n4- Netware\\n5- Mac OS\\n6- Outro\\n0- Encerrar\\nOpção:'))\n",
    "    \n",
    "    if opcao != 0:\n",
    "        enquete.append(opcao)\n",
    "    \n",
    "    if opcao == 0:\n",
    "        break\n",
    "\n",
    "colocacao.extend([enquete.count(1), enquete.count(2), enquete.count(3), enquete.count(4), enquete.count(5), enquete.count(6)])\n",
    "\n",
    "for item in colocacao:\n",
    "    percentual.append(item/sum(colocacao)*100)\n",
    "\n",
    "maior = max(colocacao)\n",
    "for ind, valor in enumerate(colocacao):\n",
    "    if valor == maior:\n",
    "        ind_maioria_votos = ind\n",
    "\n",
    "print('\\nSistema Operacional\\tVotos\\t%')\n",
    "print('---------------------\\t-----\\t---')\n",
    "for i in range(6):\n",
    "    if i == 0:\n",
    "        print(f'{SOs[i]}\\t\\t{colocacao[i]}\\t{int(percentual[i])}%')\n",
    "    else:\n",
    "        print(f'{SOs[i]}\\t\\t\\t{colocacao[i]}\\t{int(percentual[i])}%')\n",
    "    \n",
    "print('---------------------\\t-----\\n')\n",
    "print(f'Total\\t\\t\\t{sum(colocacao)}\\n')\n",
    "print(f'O Sistema Operacional mais votado foi o {SOs[ind_maioria_votos]}, com {colocacao[ind_maioria_votos]} votos, correspondendo a {int(percentual[ind_maioria_votos])}% dos votos.')\n",
   ]
  },
  {
   "cell_type": "code",
   "execution_count": null,
   "id": "ea5be164",
   "metadata": {},
   "outputs": [],
   "source": []
  },
  {
   "cell_type": "code",
   "execution_count": null,
   "id": "65d2d9ee",
   "metadata": {},
   "outputs": [],
   "source": []
  }
 ],
 "metadata": {
  "kernelspec": {
   "display_name": "Python 3",
   "language": "python",
   "name": "python3"
  },
  "language_info": {
   "codemirror_mode": {
    "name": "ipython",
    "version": 3
   },
   "file_extension": ".py",
   "mimetype": "text/x-python",
   "name": "python",
   "nbconvert_exporter": "python",
   "pygments_lexer": "ipython3",
   "version": "3.8.8"
  }
 },
 "nbformat": 4,
 "nbformat_minor": 5
}
